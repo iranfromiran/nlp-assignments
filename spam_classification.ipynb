{
  "nbformat": 4,
  "nbformat_minor": 0,
  "metadata": {
    "colab": {
      "provenance": [],
      "authorship_tag": "ABX9TyP7aCSkj+AZSAqr9cM2eLit",
      "include_colab_link": true
    },
    "kernelspec": {
      "name": "python3",
      "display_name": "Python 3"
    },
    "language_info": {
      "name": "python"
    }
  },
  "cells": [
    {
      "cell_type": "markdown",
      "metadata": {
        "id": "view-in-github",
        "colab_type": "text"
      },
      "source": [
        "<a href=\"https://colab.research.google.com/github/iranfromiran/nlp-assignments/blob/main/spam_classification.ipynb\" target=\"_parent\"><img src=\"https://colab.research.google.com/assets/colab-badge.svg\" alt=\"Open In Colab\"/></a>"
      ]
    },
    {
      "cell_type": "markdown",
      "source": [
        "spam classification for emails"
      ],
      "metadata": {
        "id": "kb587DaJBxsv"
      }
    },
    {
      "cell_type": "code",
      "execution_count": 11,
      "metadata": {
        "id": "TqURbYtBBUjK"
      },
      "outputs": [],
      "source": [
        "from bs4 import BeautifulSoup\n",
        "import re\n",
        "import nltk\n",
        "\n",
        "def normalizing(myString):\n",
        "    # convert text to lowercase\n",
        "    myString = myString.lower()\n",
        "\n",
        "    # convert URLs to 'httpaddr'\n",
        "    myString = re.sub(r'(http|https)://[^\\s]*', r' httpaddr ', myString)\n",
        "\n",
        "    # convert email addresses to 'emailaddr'\n",
        "    myString = re.sub(r'[^\\s]+@[^\\s]+[.][^\\s]+', r' emailaddr ', myString)\n",
        "\n",
        "    # convert numbers to 'number'\n",
        "    myString = re.sub(r'[0-9]+', r' number ', myString)\n",
        "\n",
        "    # convert $, ! and ? to words\n",
        "    myString = re.sub(r'[$]', r' dollar ', myString)\n",
        "    myString = re.sub(r'[!]', r' exclammark ', myString)\n",
        "    myString = re.sub(r'[?]', r' questmark ', myString)\n",
        "\n",
        "    # convert other punctuation to whitespace\n",
        "    myString = re.sub(r'([^\\w\\s]+)|([_-]+)', r' ', myString)\n",
        "\n",
        "    # convert newlines and blanklines to special strings and extra whitespace to single\n",
        "    myString = re.sub(r'\\n', r' newline ', myString)\n",
        "    myString = re.sub(r'\\n\\n', r' blankline ', myString)\n",
        "    myString = re.sub(r'\\s+', r' ', myString)\n",
        "    myString = myString.strip(' ')\n",
        "\n",
        "    # perform word stemming\n",
        "    myStringWords = myString.split(' ')\n",
        "    stemmer = nltk.stem.snowball.SnowballStemmer('english')\n",
        "    stemWords = [stemmer.stem(word) for word in myStringWords]\n",
        "    myString = ' '.join(stemWords)\n",
        "\n",
        "    return myString\n",
        "\n"
      ]
    },
    {
      "cell_type": "code",
      "source": [
        "import openpyxl\n",
        "import numpy as np\n",
        "from sklearn.svm import LinearSVC\n",
        "from sklearn.metrics import confusion_matrix, f1_score, precision_score, recall_score\n",
        "from sklearn.model_selection import train_test_split\n",
        "from sklearn.feature_extraction.text import CountVectorizer, TfidfVectorizer"
      ],
      "metadata": {
        "id": "dpbJEIX1HjSa"
      },
      "execution_count": 12,
      "outputs": []
    },
    {
      "cell_type": "code",
      "source": [
        "def store():\n",
        "    myExel_workbook = openpyxl.load_workbook('email.xlsx')\n",
        "    myDataSheet = myExel_workbook['Data Set']\n",
        "    xData = []\n",
        "    yData = []\n",
        "    rows = myDataSheet.max_row\n",
        "\n",
        "    for i in range(2, rows+1):\n",
        "        if (str(myDataSheet.cell(row = i, column = 1).value) != 'None'):\n",
        "            xData.append(str(normalizing(str(myDataSheet.cell(row = i, column = 2).value))))\n",
        "            if (str(myDataSheet.cell(row = i, column = 1).value) == \"spam\"):\n",
        "                yData.append(1)\n",
        "            else:\n",
        "                yData.append(0)\n",
        "    xTrain, xTest, yTrain, yTest = train_test_split(xData, yData, test_size=0.2, random_state=0)\n",
        "    return xTrain, xTest, yTrain, yTest"
      ],
      "metadata": {
        "id": "0Hx5aEpuAH31"
      },
      "execution_count": 13,
      "outputs": []
    },
    {
      "cell_type": "code",
      "source": [
        "# Calculating the F-score and precision, recall, matrix\n",
        "def calcMetrics(xTest, yTest, model, vectorizer):\n",
        "\n",
        "    xTestMatrix = vectorizer.transform(xTest)\n",
        "    yTestMatrix = np.asarray(yTest)\n",
        "\n",
        "    result = model.predict(xTestMatrix)\n",
        "    matrix = confusion_matrix(yTestMatrix, result)\n",
        "\n",
        "    fScore = f1_score(yTestMatrix, result, pos_label = 0)\n",
        "    precision = precision_score(yTestMatrix, result, pos_label=0)\n",
        "    recall = recall_score(yTestMatrix, result, pos_label=0)\n",
        "    return fScore, precision, recall, matrix"
      ],
      "metadata": {
        "id": "vUJP_Pe_AOJ3"
      },
      "execution_count": 14,
      "outputs": []
    },
    {
      "cell_type": "code",
      "source": [
        "# Test new data for Spam\n",
        "def test_new(emailBody, model, vectorizer):\n",
        "\n",
        "    featureMatrix = vectorizer.transform([normalizing(emailBody)])\n",
        "    result = model.predict(featureMatrix)\n",
        "    print(\"Predicting...\")\n",
        "\n",
        "    if (1 in result):\n",
        "        return \"Spam\"\n",
        "    else:\n",
        "        return \"Not Spam\"\n",
        "\n",
        "model = LinearSVC(class_weight='balanced')"
      ],
      "metadata": {
        "id": "8ttO9OkAARNx"
      },
      "execution_count": 37,
      "outputs": []
    },
    {
      "cell_type": "code",
      "source": [
        "# Create training data\n",
        "xTrain, xTest, yTrain, yTest = store()\n",
        "\n",
        "vectorizer = TfidfVectorizer(stop_words='english', max_df=75)\n",
        "yTrainMatrix = np.asarray(yTrain)\n",
        "xTrainMatrix = vectorizer.fit_transform(xTrain)"
      ],
      "metadata": {
        "id": "9eZTTg5bAVWm"
      },
      "execution_count": 26,
      "outputs": []
    },
    {
      "cell_type": "code",
      "source": [
        "\n",
        "# Training SVM classifier\n",
        "model.fit(xTrainMatrix, yTrainMatrix)\n",
        "fScore, precision, recall, matrix = calcMetrics(xTest, yTest, model, vectorizer)\n",
        "print(fScore, precision, recall, matrix)"
      ],
      "metadata": {
        "colab": {
          "base_uri": "https://localhost:8080/"
        },
        "id": "Mc0YYi_VAXsG",
        "outputId": "0fe1910b-1951-4d2e-a6c1-42d8536222f2"
      },
      "execution_count": 38,
      "outputs": [
        {
          "output_type": "stream",
          "name": "stdout",
          "text": [
            "0.9896587383660806 0.9886363636363636 0.9906832298136646 [[957   9]\n",
            " [ 11 138]]\n"
          ]
        }
      ]
    },
    {
      "cell_type": "code",
      "source": [
        "\n",
        "emailBody= \"Free entry in 2 a wkly comp to win FA Cup final tkts 21st May 2005. text FA to 87121 \"\n",
        "label = test_new(emailBody, model, vectorizer)\n",
        "print(\"Email is: %s\" % label)"
      ],
      "metadata": {
        "colab": {
          "base_uri": "https://localhost:8080/"
        },
        "id": "0NSdlrDMAaK6",
        "outputId": "90843d73-514b-43f1-f3a4-89b2ded482fe"
      },
      "execution_count": 39,
      "outputs": [
        {
          "output_type": "stream",
          "name": "stdout",
          "text": [
            "Predicting...\n",
            "Email is: Spam\n"
          ]
        }
      ]
    }
  ]
}